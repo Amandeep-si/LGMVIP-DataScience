{
  "nbformat": 4,
  "nbformat_minor": 0,
  "metadata": {
    "colab": {
      "name": "predict type of flower out of 3 types.ipynb",
      "provenance": []
    },
    "kernelspec": {
      "name": "python3",
      "display_name": "Python 3"
    }
  },
  "cells": [
    {
      "cell_type": "markdown",
      "metadata": {
        "id": "6dU0eGBXK1QQ"
      },
      "source": [
        "# **Topic- Types of Flower prediction based on the length and width of the sepal and petal using IRIS dataset**\n",
        "\n",
        "Import libraries "
      ]
    },
    {
      "cell_type": "code",
      "metadata": {
        "id": "1isfU9I1ICgi"
      },
      "source": [
        "\n",
        "import pandas as pd\n",
        "import numpy as np"
      ],
      "execution_count": null,
      "outputs": []
    },
    {
      "cell_type": "markdown",
      "metadata": {
        "id": "IFv_lgpnL4V2"
      },
      "source": [
        "**Now we will explore the dataset:**\n",
        "The data we will use for this example is the Iris dataset(load_iris), a classical dataset in machine learning and statistics. It is included\n",
        "in scikit-learn in the datasets module. We can load it by calling the load_iris function:\n"
      ]
    },
    {
      "cell_type": "code",
      "metadata": {
        "id": "V-fRXcxvMMYx"
      },
      "source": [
        "from sklearn.datasets import load_iris\n",
        "iris_dataset=load_iris()#here the data we have downloaded from load_iris is in the form of dictonaries means have keys and values"
      ],
      "execution_count": null,
      "outputs": []
    },
    {
      "cell_type": "code",
      "metadata": {
        "colab": {
          "base_uri": "https://localhost:8080/"
        },
        "id": "bdnSg6H8OTGd",
        "outputId": "507b42e4-e6e3-4844-ffec-9758411724c9"
      },
      "source": [
        "print(\"Keys of iris dataset: \\n{}\".format(iris_dataset.keys()))"
      ],
      "execution_count": null,
      "outputs": [
        {
          "output_type": "stream",
          "name": "stdout",
          "text": [
            "Keys of iris dataset: \n",
            "dict_keys(['data', 'target', 'target_names', 'DESCR', 'feature_names', 'filename'])\n"
          ]
        }
      ]
    },
    {
      "cell_type": "markdown",
      "metadata": {
        "id": "eQRfqSYfPFOr"
      },
      "source": [
        "To see the description of the datatset of the key 'DESCR'"
      ]
    },
    {
      "cell_type": "code",
      "metadata": {
        "colab": {
          "base_uri": "https://localhost:8080/",
          "height": 209
        },
        "id": "Mg7_8RpDPP31",
        "outputId": "efc7ef1d-039e-4231-9770-fd7bc3c84010"
      },
      "source": [
        "print(iris_dataset['DESCR'][:193]+\"\\n\")\n",
        "'''OR\n",
        "you can use the code:\n",
        "val=iris_DATASET['DESCR']\n",
        "start_value=value[:200]\n",
        "print(start_val+\"\\n\")\n",
        "'''"
      ],
      "execution_count": null,
      "outputs": [
        {
          "output_type": "stream",
          "name": "stdout",
          "text": [
            ".. _iris_dataset:\n",
            "\n",
            "Iris plants dataset\n",
            "--------------------\n",
            "\n",
            "**Data Set Characteristics:**\n",
            "\n",
            "    :Number of Instances: 150 (50 in each of three classes)\n",
            "    :Number of Attributes: 4 numeric, pre\n",
            "\n"
          ]
        },
        {
          "output_type": "execute_result",
          "data": {
            "application/vnd.google.colaboratory.intrinsic+json": {
              "type": "string"
            },
            "text/plain": [
              "'OR\\nyou can use the code:\\nval=iris_DATASET[\\'DESCR\\']\\nstart_value=value[:200]\\nprint(start_val+\"\\n\")\\n'"
            ]
          },
          "metadata": {},
          "execution_count": 5
        }
      ]
    },
    {
      "cell_type": "markdown",
      "metadata": {
        "id": "BTsO14QvSeu3"
      },
      "source": [
        "Now look in the 'Target' key of the dataset"
      ]
    },
    {
      "cell_type": "code",
      "metadata": {
        "colab": {
          "base_uri": "https://localhost:8080/"
        },
        "id": "JxUbipHASlGY",
        "outputId": "07398b02-d4b7-4ed2-b0b4-5d389a71d62e"
      },
      "source": [
        "print(\"Target Name:{}\".format(iris_dataset['target_names']))\n",
        "#name of the flowers"
      ],
      "execution_count": null,
      "outputs": [
        {
          "output_type": "stream",
          "name": "stdout",
          "text": [
            "Target Name:['setosa' 'versicolor' 'virginica']\n"
          ]
        }
      ]
    },
    {
      "cell_type": "markdown",
      "metadata": {
        "id": "h3yc4I4zTf6Q"
      },
      "source": [
        "Now let's see in feature_names"
      ]
    },
    {
      "cell_type": "code",
      "metadata": {
        "colab": {
          "base_uri": "https://localhost:8080/"
        },
        "id": "n6m0Kh8jTu2s",
        "outputId": "4991f24b-089a-4805-a72f-a6333e21fc2b"
      },
      "source": [
        "print(\"Features Name:{}\".format(iris_dataset['feature_names']))\n",
        "#name of the features on which we tell which type of flower is it"
      ],
      "execution_count": null,
      "outputs": [
        {
          "output_type": "stream",
          "name": "stdout",
          "text": [
            "Features Name:['sepal length (cm)', 'sepal width (cm)', 'petal length (cm)', 'petal width (cm)']\n"
          ]
        }
      ]
    },
    {
      "cell_type": "markdown",
      "metadata": {
        "id": "Cd4ac5rIU5Z2"
      },
      "source": [
        "Now come to 'data' key of the dataset"
      ]
    },
    {
      "cell_type": "code",
      "metadata": {
        "colab": {
          "base_uri": "https://localhost:8080/"
        },
        "id": "pRbKVnDfVB3I",
        "outputId": "851cb30f-f05e-4cf0-8f54-7bf0a1233c33"
      },
      "source": [
        "print(\"Type of Data:{}\".format(type(iris_dataset['data'])))\n",
        "#in this rows corresponds to flowers and columns represent four features which we give to predict the type of flower\n",
        "print(\"Shape of the Data:{}\".format(iris_dataset['data'].shape))"
      ],
      "execution_count": null,
      "outputs": [
        {
          "output_type": "stream",
          "text": [
            "Type of Data:<class 'numpy.ndarray'>\n",
            "Shape of the Data:(150, 4)\n"
          ],
          "name": "stdout"
        }
      ]
    },
    {
      "cell_type": "markdown",
      "metadata": {
        "id": "K-zyVvHBWyh6"
      },
      "source": [
        "Feature values for first five samples"
      ]
    },
    {
      "cell_type": "code",
      "metadata": {
        "colab": {
          "base_uri": "https://localhost:8080/"
        },
        "id": "MQ_fnqjfW8gE",
        "outputId": "0646931b-624c-4962-9749-2627964d8a33"
      },
      "source": [
        "print(\"First five columns of the data:\\n{}\".format(iris_dataset['data'][:5]))"
      ],
      "execution_count": null,
      "outputs": [
        {
          "output_type": "stream",
          "text": [
            "First five columns of the data:\n",
            "[[5.1 3.5 1.4 0.2]\n",
            " [4.9 3.  1.4 0.2]\n",
            " [4.7 3.2 1.3 0.2]\n",
            " [4.6 3.1 1.5 0.2]\n",
            " [5.  3.6 1.4 0.2]]\n"
          ],
          "name": "stdout"
        }
      ]
    },
    {
      "cell_type": "markdown",
      "metadata": {
        "id": "Zk_SvxzYX_ni"
      },
      "source": [
        "now see the 'target' key of the dataset"
      ]
    },
    {
      "cell_type": "code",
      "metadata": {
        "colab": {
          "base_uri": "https://localhost:8080/"
        },
        "id": "Po5pm6KxYFM9",
        "outputId": "a7dbf872-0879-4f71-b032-62c7512b8551"
      },
      "source": [
        "print(\"Type of Target:{}\".format(type(iris_dataset['target'])))\n",
        "#in this target is a 1D array\n",
        "print(\"Shape of the Target:{}\".format(iris_dataset['target'].shape))"
      ],
      "execution_count": null,
      "outputs": [
        {
          "output_type": "stream",
          "text": [
            "Type of Target:<class 'numpy.ndarray'>\n",
            "Shape of the Target:(150,)\n"
          ],
          "name": "stdout"
        }
      ]
    },
    {
      "cell_type": "code",
      "metadata": {
        "colab": {
          "base_uri": "https://localhost:8080/"
        },
        "id": "q7odpydAY8-n",
        "outputId": "dc48620c-3300-4f8a-e2a9-1115af9d8d3e"
      },
      "source": [
        "print(\"Target:{}\".format(iris_dataset['target']))\n",
        "#in this the types of flowers are store as integer:0(setosa),1(versicolor),2(virginica)"
      ],
      "execution_count": null,
      "outputs": [
        {
          "output_type": "stream",
          "text": [
            "Target:[0 0 0 0 0 0 0 0 0 0 0 0 0 0 0 0 0 0 0 0 0 0 0 0 0 0 0 0 0 0 0 0 0 0 0 0 0\n",
            " 0 0 0 0 0 0 0 0 0 0 0 0 0 1 1 1 1 1 1 1 1 1 1 1 1 1 1 1 1 1 1 1 1 1 1 1 1\n",
            " 1 1 1 1 1 1 1 1 1 1 1 1 1 1 1 1 1 1 1 1 1 1 1 1 1 1 2 2 2 2 2 2 2 2 2 2 2\n",
            " 2 2 2 2 2 2 2 2 2 2 2 2 2 2 2 2 2 2 2 2 2 2 2 2 2 2 2 2 2 2 2 2 2 2 2 2 2\n",
            " 2 2]\n"
          ],
          "name": "stdout"
        }
      ]
    },
    {
      "cell_type": "markdown",
      "metadata": {
        "id": "qgXRVWtxZ6N0"
      },
      "source": [
        "**Test and train the Data**"
      ]
    },
    {
      "cell_type": "code",
      "metadata": {
        "id": "QXBby8wMaApk"
      },
      "source": [
        "from sklearn.model_selection import train_test_split #to split the data into 75% for training and 25% for test\n",
        "X_train,X_test,y_train,y_test=train_test_split(\n",
        "    iris_dataset['data'],iris_dataset['target'],random_state=0\n",
        ")"
      ],
      "execution_count": null,
      "outputs": []
    },
    {
      "cell_type": "markdown",
      "metadata": {
        "id": "FGaBft-gcdOq"
      },
      "source": [
        "Before making the split. the train_test_split function shuffles the dataset using a pseudorandom number generator To\n",
        "make sure that we will get the same output if we run the same function several times, we provide the pseudorandom\n",
        "number generator with a fixed seed using the random_state parameter.\n"
      ]
    },
    {
      "cell_type": "code",
      "metadata": {
        "colab": {
          "base_uri": "https://localhost:8080/"
        },
        "id": "GfX4PYhEceZ3",
        "outputId": "955ae82c-a2b8-4b84-c14f-1e99504791e3"
      },
      "source": [
        "print(\"X_train shape:{}\".format(X_train.shape))\n",
        "print(\"y_train shape:{}\".format(y_train.shape))\n",
        "print(\"X_test shape:{}\".format(X_test.shape))\n",
        "print(\"X_test shape:{}\".format(X_test.shape))"
      ],
      "execution_count": null,
      "outputs": [
        {
          "output_type": "stream",
          "text": [
            "X_train shape:(112, 4)\n",
            "y_train shape:(112,)\n",
            "X_test shape:(38, 4)\n",
            "X_test shape:(38, 4)\n"
          ],
          "name": "stdout"
        }
      ]
    },
    {
      "cell_type": "markdown",
      "metadata": {
        "id": "s1_hXRSIhNIl"
      },
      "source": [
        "**Make a ML Model**\n",
        "\n",
        "here we use algorithm K-nearest neighbour "
      ]
    },
    {
      "cell_type": "code",
      "metadata": {
        "id": "ChkkMmaEhbNQ"
      },
      "source": [
        "#create the model\n",
        "from sklearn.neighbors import KNeighborsClassifier\n",
        "knn=KNeighborsClassifier(n_neighbors=1)"
      ],
      "execution_count": null,
      "outputs": []
    },
    {
      "cell_type": "code",
      "metadata": {
        "colab": {
          "base_uri": "https://localhost:8080/"
        },
        "id": "DMtZRAdBmaki",
        "outputId": "d629ed26-c677-4755-8d7c-5f005de39349"
      },
      "source": [
        "#train the model\n",
        "knn.fit(X_train,y_train)"
      ],
      "execution_count": null,
      "outputs": [
        {
          "output_type": "execute_result",
          "data": {
            "text/plain": [
              "KNeighborsClassifier(algorithm='auto', leaf_size=30, metric='minkowski',\n",
              "                     metric_params=None, n_jobs=None, n_neighbors=1, p=2,\n",
              "                     weights='uniform')"
            ]
          },
          "metadata": {
            "tags": []
          },
          "execution_count": 22
        }
      ]
    },
    {
      "cell_type": "markdown",
      "metadata": {
        "id": "ATvGxiCbmu0L"
      },
      "source": [
        "**predicting using knn model**"
      ]
    },
    {
      "cell_type": "code",
      "metadata": {
        "colab": {
          "base_uri": "https://localhost:8080/"
        },
        "id": "uJyhDfc8mzgB",
        "outputId": "68980971-1997-41c6-9c01-d3fc6bef1c25"
      },
      "source": [
        "# a sepal length of 9 cm, a petal length of 1 cm, and a petal width of 0.2 cm.\n",
        "#What species of iris would this be?\n",
        "X_new=np.array([[5,2.9,1,0.2]])\n",
        "print(\"X_new shape:{}\".format(X_new.shape))\n",
        "'''\n",
        "We can put this data into a NumPy array, again by calculating the shape—that is, the number of\n",
        "samples (I ) multiplied by the number of features (4):\n",
        "'''"
      ],
      "execution_count": null,
      "outputs": [
        {
          "output_type": "stream",
          "text": [
            "X_new shape:(1, 4)\n"
          ],
          "name": "stdout"
        }
      ]
    },
    {
      "cell_type": "code",
      "metadata": {
        "colab": {
          "base_uri": "https://localhost:8080/"
        },
        "id": "kO8ikqPFof3f",
        "outputId": "15d5c456-8f67-46f4-a9be-b8f9db427fd2"
      },
      "source": [
        "#predict the given data using predict method\n",
        "prediction=knn.predict(X_new)\n",
        "print(\"Prediction:{}\".format(prediction))\n",
        "print(\"Prediction target name:{}\".format(iris_dataset['target_names'][prediction]))"
      ],
      "execution_count": null,
      "outputs": [
        {
          "output_type": "stream",
          "text": [
            "Prediction:[0]\n",
            "Prediction target name:['setosa']\n"
          ],
          "name": "stdout"
        }
      ]
    },
    {
      "cell_type": "markdown",
      "metadata": {
        "id": "0YauE9ycpfov"
      },
      "source": [
        "**Evaluating the model**"
      ]
    },
    {
      "cell_type": "code",
      "metadata": {
        "colab": {
          "base_uri": "https://localhost:8080/"
        },
        "id": "xhhnlNqFplYn",
        "outputId": "2186911e-4076-43e8-e257-96db41d1e5aa"
      },
      "source": [
        "y_pred=knn.predict(X_test)\n",
        "print(\"Test set predictions:\\n{}\".format(y_pred))"
      ],
      "execution_count": null,
      "outputs": [
        {
          "output_type": "stream",
          "text": [
            "Test set predictions:\n",
            "[2 1 0 2 0 2 0 1 1 1 2 1 1 1 1 0 1 1 0 0 2 1 0 0 2 0 0 1 1 0 2 1 0 2 2 1 0\n",
            " 2]\n"
          ],
          "name": "stdout"
        }
      ]
    },
    {
      "cell_type": "code",
      "metadata": {
        "colab": {
          "base_uri": "https://localhost:8080/"
        },
        "id": "Yh1l-cgIqN8d",
        "outputId": "77bcfd7a-3953-4f8b-fb5a-034618bfb8a1"
      },
      "source": [
        "print(\"Test set score:{}\".format(np.mean(y_pred==y_test)))"
      ],
      "execution_count": null,
      "outputs": [
        {
          "output_type": "stream",
          "text": [
            "Test set score:0.9736842105263158\n"
          ],
          "name": "stdout"
        }
      ]
    },
    {
      "cell_type": "markdown",
      "metadata": {
        "id": "wYb_5kgdqvvj"
      },
      "source": [
        "# Lets give new value and predict that type also"
      ]
    },
    {
      "cell_type": "code",
      "metadata": {
        "colab": {
          "base_uri": "https://localhost:8080/"
        },
        "id": "VPaNtEvbq3RH",
        "outputId": "aea317c4-c399-4df6-88f9-39898dd4b72c"
      },
      "source": [
        "X_new=np.array([[3,1.5,5,0.5]])\n",
        "print(\"X_new shape:{}\".format(X_new.shape))\n",
        "prediction=knn.predict(X_new)\n",
        "print(\"Prediction:{}\".format(prediction))\n",
        "print(\"Prediction target name:{}\".format(iris_dataset['target_names'][prediction]))"
      ],
      "execution_count": null,
      "outputs": [
        {
          "output_type": "stream",
          "text": [
            "X_new shape:(1, 4)\n",
            "Prediction:[2]\n",
            "Prediction target name:['virginica']\n"
          ],
          "name": "stdout"
        }
      ]
    }
  ]
}